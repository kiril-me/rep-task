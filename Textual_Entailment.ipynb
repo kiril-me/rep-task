{
 "cells": [
  {
   "cell_type": "markdown",
   "metadata": {},
   "source": [
    "# Textual Entailments\n",
    "\n",
    "Textual Entailment is a generalization of many tasks in natural language processing. If you have a system that is good at recognizing textual entailment, it should be easier to build good systems for information retrieval, question answering, paraphrase recognition, information extraction and summarization.\n",
    "\n",
    "\n",
    "## Task\n",
    "\n",
    "Given two text fragments, one named text and the other named hypothesis, the task consists in recognizing whether the hypothesis can be inferred from the text.\n",
    "\n",
    "## Dataset\n",
    "\n",
    "The Multi-genre NLI Corpus (RepEval 2017) [http://www.nyu.edu/projects/bowman/multinli/] will be used to create the model. The sentence pairs are presented. From source text and promted to..."
   ]
  },
  {
   "cell_type": "code",
   "execution_count": 1,
   "metadata": {},
   "outputs": [
    {
     "name": "stderr",
     "output_type": "stream",
     "text": [
      "Using TensorFlow backend.\n"
     ]
    }
   ],
   "source": [
    "from __future__ import print_function\n",
    "%matplotlib inline\n",
    "\n",
    "from IPython.display import Image, display\n",
    "from io import BytesIO\n",
    "import matplotlib.pyplot as plt\n",
    "\n",
    "import os\n",
    "from os.path import join, exists\n",
    "import sys\n",
    "import numpy as np\n",
    "import time\n",
    "\n",
    "import urllib2\n",
    "import json\n",
    "from zipfile import ZipFile\n",
    "\n",
    "import pandas as pd\n",
    "import pydot_ng as pydot\n",
    "import graphviz\n",
    "from ggplot import *\n",
    "\n",
    "import tensorflow as tf\n",
    "\n",
    "from keras import backend as K\n",
    "from keras.preprocessing.text import Tokenizer\n",
    "from keras.preprocessing.sequence import pad_sequences\n",
    "from keras.utils.data_utils import get_file\n",
    "from keras.utils import to_categorical, plot_model\n",
    "from keras.models import Sequential, Model, load_model\n",
    "from keras.layers import Embedding, Dense, Input, Dropout, Reshape, BatchNormalization, TimeDistributed, Lambda, Layer, Merge, LSTM, Bidirectional, Convolution1D, GRU, add, concatenate\n",
    "from keras.callbacks import Callback, ModelCheckpoint, TensorBoard, BaseLogger, ReduceLROnPlateau\n",
    "from keras.optimizers import RMSprop, Adam, SGD, Adagrad"
   ]
  },
  {
   "cell_type": "code",
   "execution_count": 3,
   "metadata": {
    "collapsed": true
   },
   "outputs": [],
   "source": [
    "dataset_filename = 'multinli_0.9'\n",
    "training_sample_size = 1000 # 1000 Change this to -1 if you want all\n",
    "max_seq_length = 100 #400\n",
    "\n",
    "model_name = 'small'\n",
    "\n",
    "lr = 0.001\n",
    "lr_decay = 1e-4\n",
    "epochs = 25\n",
    "batch_size = 128\n"
   ]
  },
  {
   "cell_type": "markdown",
   "metadata": {},
   "source": [
    "# Download Dataset"
   ]
  },
  {
   "cell_type": "code",
   "execution_count": 4,
   "metadata": {
    "collapsed": true
   },
   "outputs": [],
   "source": [
    "last_percent_reported = None\n",
    "\n",
    "def download_progress_hook(count, blockSize, totalSize):\n",
    "  global last_percent_reported\n",
    "  percent = int(count * blockSize * 100 / totalSize)\n",
    "\n",
    "  if last_percent_reported != percent:\n",
    "    if percent % 5 == 0:\n",
    "      sys.stdout.write(\"%s%%\" % percent)\n",
    "      sys.stdout.flush()\n",
    "    else:\n",
    "      sys.stdout.write(\".\")\n",
    "      sys.stdout.flush()\n",
    "      \n",
    "    last_percent_reported = percent\n",
    "    \n",
    "def maybe_download(data_root, url, filename, expected_bytes, force=False):\n",
    "    dest_filename = join(data_root, filename)\n",
    "\n",
    "    if force or not exists(dest_filename):\n",
    "        print('Attempting to download:', filename) \n",
    "        url_file = url + '/' + filename\n",
    "        print(url_file)\n",
    "        req = urllib2.Request(url_file)\n",
    "        req.add_header('Accept', '*/*') # make file downloadable\n",
    "        f = urllib2.urlopen(req)\n",
    "        total_size = f.info().getheader('Content-Length').strip()\n",
    "        total_size = int(total_size)\n",
    "        chunk_size = int(total_size / 100)\n",
    "        \n",
    "        with open(dest_filename, \"wb\") as local_file:\n",
    "            bytes_so_far = 0\n",
    "            count = 0\n",
    "            while bytes_so_far < total_size:\n",
    "                chunk = f.read(chunk_size)\n",
    "                local_file.write(chunk)\n",
    "                bytes_so_far += len(chunk)\n",
    "\n",
    "                download_progress_hook(count, chunk_size, total_size)\n",
    "                count += 1\n",
    "        #filename, _ = urllib2.urlretrieve(url + filename, dest_filename)#, reporthook=download_progress_hook)\n",
    "        print('\\nDownload Complete!')\n",
    "        \n",
    "    statinfo = os.stat(dest_filename)\n",
    "    if statinfo.st_size == expected_bytes:\n",
    "        print('Found and verified', dest_filename)\n",
    "    else:\n",
    "        raise Exception(\n",
    "          'Failed to verify ' + dest_filename + '. Can you get to it with a browser? ' + str(statinfo.st_size))\n",
    "    \n",
    "    return dest_filename\n"
   ]
  },
  {
   "cell_type": "code",
   "execution_count": 5,
   "metadata": {},
   "outputs": [
    {
     "name": "stdout",
     "output_type": "stream",
     "text": [
      "Found and verified ./datasets/multinli_0.9.zip\n"
     ]
    }
   ],
   "source": [
    "multinli_url = 'http://www.nyu.edu/projects/bowman/multinli'\n",
    "data_folder = './datasets'\n",
    "\n",
    "if not exists(data_folder):\n",
    "    os.makedirs(data_folder)\n",
    "\n",
    "train_filename_zip = maybe_download(data_folder, multinli_url, dataset_filename + '.zip', 227166798)\n",
    "\n",
    "train_filename = os.path.join(data_folder, dataset_filename, dataset_filename + '_train.jsonl')\n",
    "if not exists(train_filename):\n",
    "    print('Extract %s' % train_filename_zip)\n",
    "    zipfile = ZipFile(train_filename_zip, 'r')\n",
    "    zipfile.extractall(data_folder)\n",
    "    zipfile.close()"
   ]
  },
  {
   "cell_type": "markdown",
   "metadata": {},
   "source": [
    "# Download GloVe"
   ]
  },
  {
   "cell_type": "code",
   "execution_count": 6,
   "metadata": {},
   "outputs": [
    {
     "name": "stdout",
     "output_type": "stream",
     "text": [
      "Extract ./datasets/glove.840B.300d.txt\n",
      "Embeddings size: 2196016\n"
     ]
    }
   ],
   "source": [
    "glove_url = 'http://nlp.stanford.edu/data/glove.840B.300d.zip'\n",
    "embedding_dim = 300\n",
    "glove_filename = 'glove.840B.' + str(embedding_dim) + 'd.zip'\n",
    "glove_loc = join(data_folder, glove_filename)\n",
    "\n",
    "if not exists(glove_loc):\n",
    "    print('Download %s' % glove_filename)\n",
    "    get_file(glove_filename, glove_url, cache_dir='.', extract=True)\n",
    "\n",
    "glove_filename = os.path.join(data_folder, 'glove.840B.300d.txt')\n",
    "\n",
    "embeddings = {}\n",
    "\n",
    "print('Extract %s' % glove_filename)\n",
    "with open(glove_filename, 'r') as f:\n",
    "    for line in f:\n",
    "        values = line.split(' ')\n",
    "        word = values[0]\n",
    "        embedding = np.asarray(values[1:], dtype='float32')\n",
    "        embeddings[word] = embedding\n",
    "        \n",
    "print('Embeddings size: %d' % len(embeddings))"
   ]
  },
  {
   "cell_type": "markdown",
   "metadata": {},
   "source": [
    "# Data Valuation"
   ]
  },
  {
   "cell_type": "markdown",
   "metadata": {},
   "source": [
    "## Dataset Corpus"
   ]
  },
  {
   "cell_type": "code",
   "execution_count": 7,
   "metadata": {},
   "outputs": [
    {
     "data": {
      "text/html": [
       "<div>\n",
       "<table border=\"1\" class=\"dataframe\">\n",
       "  <thead>\n",
       "    <tr style=\"text-align: right;\">\n",
       "      <th></th>\n",
       "      <th>annotator_labels</th>\n",
       "      <th>genre</th>\n",
       "      <th>gold_label</th>\n",
       "      <th>pairID</th>\n",
       "      <th>promptID</th>\n",
       "      <th>sentence1</th>\n",
       "      <th>sentence1_binary_parse</th>\n",
       "      <th>sentence1_parse</th>\n",
       "      <th>sentence2</th>\n",
       "      <th>sentence2_binary_parse</th>\n",
       "      <th>sentence2_parse</th>\n",
       "    </tr>\n",
       "  </thead>\n",
       "  <tbody>\n",
       "    <tr>\n",
       "      <th>0</th>\n",
       "      <td>[neutral]</td>\n",
       "      <td>government</td>\n",
       "      <td>neutral</td>\n",
       "      <td>335730n</td>\n",
       "      <td>335730n</td>\n",
       "      <td>Conceptually cream skimming has two basic dime...</td>\n",
       "      <td>( ( Conceptually ( cream skimming ) ) ( ( has ...</td>\n",
       "      <td>(ROOT (S (NP (JJ Conceptually) (NN cream) (NN ...</td>\n",
       "      <td>Product and geography are what make cream skim...</td>\n",
       "      <td>( ( ( Product and ) geography ) ( ( are ( what...</td>\n",
       "      <td>(ROOT (S (NP (NN Product) (CC and) (NN geograp...</td>\n",
       "    </tr>\n",
       "    <tr>\n",
       "      <th>1</th>\n",
       "      <td>[entailment]</td>\n",
       "      <td>telephone</td>\n",
       "      <td>entailment</td>\n",
       "      <td>249628e</td>\n",
       "      <td>249628e</td>\n",
       "      <td>you know during the season and i guess at at y...</td>\n",
       "      <td>( you ( ( know ( during ( ( ( the season ) and...</td>\n",
       "      <td>(ROOT (S (NP (PRP you)) (VP (VBP know) (PP (IN...</td>\n",
       "      <td>You lose the things to the following level if ...</td>\n",
       "      <td>( You ( ( ( ( lose ( the things ) ) ( to ( the...</td>\n",
       "      <td>(ROOT (S (NP (PRP You)) (VP (VBP lose) (NP (DT...</td>\n",
       "    </tr>\n",
       "    <tr>\n",
       "      <th>2</th>\n",
       "      <td>[entailment]</td>\n",
       "      <td>fiction</td>\n",
       "      <td>entailment</td>\n",
       "      <td>169837e</td>\n",
       "      <td>169837e</td>\n",
       "      <td>One of our number will carry out your instruct...</td>\n",
       "      <td>( ( One ( of ( our number ) ) ) ( ( will ( ( (...</td>\n",
       "      <td>(ROOT (S (NP (NP (CD One)) (PP (IN of) (NP (PR...</td>\n",
       "      <td>A member of my team will execute your orders w...</td>\n",
       "      <td>( ( ( A member ) ( of ( my team ) ) ) ( ( will...</td>\n",
       "      <td>(ROOT (S (NP (NP (DT A) (NN member)) (PP (IN o...</td>\n",
       "    </tr>\n",
       "    <tr>\n",
       "      <th>3</th>\n",
       "      <td>[entailment]</td>\n",
       "      <td>fiction</td>\n",
       "      <td>entailment</td>\n",
       "      <td>155402e</td>\n",
       "      <td>155402e</td>\n",
       "      <td>How do you know? All this is their information...</td>\n",
       "      <td>( ( How ( ( ( do you ) know ) ? ) ) ( ( All th...</td>\n",
       "      <td>(ROOT (S (SBARQ (WHADVP (WRB How)) (SQ (VBP do...</td>\n",
       "      <td>This information belongs to them.</td>\n",
       "      <td>( ( This information ) ( ( belongs ( to them )...</td>\n",
       "      <td>(ROOT (S (NP (DT This) (NN information)) (VP (...</td>\n",
       "    </tr>\n",
       "    <tr>\n",
       "      <th>4</th>\n",
       "      <td>[neutral]</td>\n",
       "      <td>telephone</td>\n",
       "      <td>neutral</td>\n",
       "      <td>416658n</td>\n",
       "      <td>416658n</td>\n",
       "      <td>yeah i tell you what though if you go price so...</td>\n",
       "      <td>( yeah ( i ( ( tell you ) ( what ( ( though ( ...</td>\n",
       "      <td>(ROOT (S (VP (VB yeah) (S (NP (FW i)) (VP (VB ...</td>\n",
       "      <td>The tennis shoes have a range of prices.</td>\n",
       "      <td>( ( The ( tennis shoes ) ) ( ( have ( ( a rang...</td>\n",
       "      <td>(ROOT (S (NP (DT The) (NN tennis) (NNS shoes))...</td>\n",
       "    </tr>\n",
       "  </tbody>\n",
       "</table>\n",
       "</div>"
      ],
      "text/plain": [
       "  annotator_labels       genre  gold_label   pairID promptID  \\\n",
       "0        [neutral]  government     neutral  335730n  335730n   \n",
       "1     [entailment]   telephone  entailment  249628e  249628e   \n",
       "2     [entailment]     fiction  entailment  169837e  169837e   \n",
       "3     [entailment]     fiction  entailment  155402e  155402e   \n",
       "4        [neutral]   telephone     neutral  416658n  416658n   \n",
       "\n",
       "                                           sentence1  \\\n",
       "0  Conceptually cream skimming has two basic dime...   \n",
       "1  you know during the season and i guess at at y...   \n",
       "2  One of our number will carry out your instruct...   \n",
       "3  How do you know? All this is their information...   \n",
       "4  yeah i tell you what though if you go price so...   \n",
       "\n",
       "                              sentence1_binary_parse  \\\n",
       "0  ( ( Conceptually ( cream skimming ) ) ( ( has ...   \n",
       "1  ( you ( ( know ( during ( ( ( the season ) and...   \n",
       "2  ( ( One ( of ( our number ) ) ) ( ( will ( ( (...   \n",
       "3  ( ( How ( ( ( do you ) know ) ? ) ) ( ( All th...   \n",
       "4  ( yeah ( i ( ( tell you ) ( what ( ( though ( ...   \n",
       "\n",
       "                                     sentence1_parse  \\\n",
       "0  (ROOT (S (NP (JJ Conceptually) (NN cream) (NN ...   \n",
       "1  (ROOT (S (NP (PRP you)) (VP (VBP know) (PP (IN...   \n",
       "2  (ROOT (S (NP (NP (CD One)) (PP (IN of) (NP (PR...   \n",
       "3  (ROOT (S (SBARQ (WHADVP (WRB How)) (SQ (VBP do...   \n",
       "4  (ROOT (S (VP (VB yeah) (S (NP (FW i)) (VP (VB ...   \n",
       "\n",
       "                                           sentence2  \\\n",
       "0  Product and geography are what make cream skim...   \n",
       "1  You lose the things to the following level if ...   \n",
       "2  A member of my team will execute your orders w...   \n",
       "3                  This information belongs to them.   \n",
       "4           The tennis shoes have a range of prices.   \n",
       "\n",
       "                              sentence2_binary_parse  \\\n",
       "0  ( ( ( Product and ) geography ) ( ( are ( what...   \n",
       "1  ( You ( ( ( ( lose ( the things ) ) ( to ( the...   \n",
       "2  ( ( ( A member ) ( of ( my team ) ) ) ( ( will...   \n",
       "3  ( ( This information ) ( ( belongs ( to them )...   \n",
       "4  ( ( The ( tennis shoes ) ) ( ( have ( ( a rang...   \n",
       "\n",
       "                                     sentence2_parse  \n",
       "0  (ROOT (S (NP (NN Product) (CC and) (NN geograp...  \n",
       "1  (ROOT (S (NP (PRP You)) (VP (VBP lose) (NP (DT...  \n",
       "2  (ROOT (S (NP (NP (DT A) (NN member)) (PP (IN o...  \n",
       "3  (ROOT (S (NP (DT This) (NN information)) (VP (...  \n",
       "4  (ROOT (S (NP (DT The) (NN tennis) (NNS shoes))...  "
      ]
     },
     "execution_count": 7,
     "metadata": {},
     "output_type": "execute_result"
    }
   ],
   "source": [
    "def loadDataset(filename, size=-1):\n",
    "    label_category = {\n",
    "        'neutral': 0,\n",
    "        'entailment': 1,\n",
    "        'contradiction': 2\n",
    "    }\n",
    "    dataset = []\n",
    "    sentence1 = []\n",
    "    sentence2 = []\n",
    "    labels = []\n",
    "    with open(filename, 'r') as f:\n",
    "        i = 0\n",
    "        not_found = 0\n",
    "        for line in f:\n",
    "            row = json.loads(unicode(line, 'utf-8'))\n",
    "            if size == -1 or i < size:\n",
    "                dataset.append(row)\n",
    "                label = row['gold_label'].encode('utf-8').strip()\n",
    "                if label in label_category:\n",
    "                    sentence1.append( row['sentence1'].encode('utf-8').strip() )\n",
    "                    sentence2.append( row['sentence2'].encode('utf-8').strip() )\n",
    "\n",
    "                    labels.append( label_category[label] )\n",
    "                    i += 1\n",
    "                else:\n",
    "                    not_found += 1\n",
    "            else:\n",
    "                break;\n",
    "        if not_found > 0:\n",
    "            print('Label not recognized %d' % not_found)\n",
    "                \n",
    "    return (dataset, sentence1, sentence2, labels)\n",
    "\n",
    "\n",
    "(train_dataset, train_sentence1, train_sentence2, train_labels) = loadDataset(train_filename, training_sample_size)\n",
    "\n",
    "train_df = pd.DataFrame(train_dataset)\n",
    "\n",
    "train_df.head()"
   ]
  },
  {
   "cell_type": "code",
   "execution_count": 8,
   "metadata": {},
   "outputs": [
    {
     "data": {
      "text/plain": [
       "array([u'government', u'telephone', u'fiction', u'travel', u'slate'], dtype=object)"
      ]
     },
     "execution_count": 8,
     "metadata": {},
     "output_type": "execute_result"
    }
   ],
   "source": [
    "train_df.genre.unique()"
   ]
  },
  {
   "cell_type": "code",
   "execution_count": 9,
   "metadata": {},
   "outputs": [
    {
     "data": {
      "text/plain": [
       "array([u'neutral', u'entailment', u'contradiction'], dtype=object)"
      ]
     },
     "execution_count": 9,
     "metadata": {},
     "output_type": "execute_result"
    }
   ],
   "source": [
    "train_df.gold_label.unique()"
   ]
  },
  {
   "cell_type": "code",
   "execution_count": 10,
   "metadata": {},
   "outputs": [
    {
     "name": "stdout",
     "output_type": "stream",
     "text": [
      "neutral: 130900\n",
      "entailment: 130899\n",
      "contradiction: 130903\n"
     ]
    }
   ],
   "source": [
    "gold_label = train_df['gold_label']\n",
    "print('neutral: %d' % gold_label[gold_label == 'neutral'].count())\n",
    "print('entailment: %d' % gold_label[gold_label == 'entailment'].count())\n",
    "print('contradiction: %d' % gold_label[gold_label == 'contradiction'].count())\n"
   ]
  },
  {
   "cell_type": "code",
   "execution_count": 11,
   "metadata": {},
   "outputs": [
    {
     "data": {
      "text/plain": [
       "annotator_labels                                                  [neutral]\n",
       "genre                                                            government\n",
       "gold_label                                                          neutral\n",
       "pairID                                                              335730n\n",
       "promptID                                                            335730n\n",
       "sentence1                 Conceptually cream skimming has two basic dime...\n",
       "sentence1_binary_parse    ( ( Conceptually ( cream skimming ) ) ( ( has ...\n",
       "sentence1_parse           (ROOT (S (NP (JJ Conceptually) (NN cream) (NN ...\n",
       "sentence2                 Product and geography are what make cream skim...\n",
       "sentence2_binary_parse    ( ( ( Product and ) geography ) ( ( are ( what...\n",
       "sentence2_parse           (ROOT (S (NP (NN Product) (CC and) (NN geograp...\n",
       "Name: 0, dtype: object"
      ]
     },
     "execution_count": 11,
     "metadata": {},
     "output_type": "execute_result"
    }
   ],
   "source": [
    "train_df.iloc[0]"
   ]
  },
  {
   "cell_type": "markdown",
   "metadata": {},
   "source": [
    "We would train model on sentence1, sentence2 and gold_label."
   ]
  },
  {
   "cell_type": "code",
   "execution_count": 12,
   "metadata": {},
   "outputs": [
    {
     "data": {
      "text/html": [
       "<div>\n",
       "<table border=\"1\" class=\"dataframe\">\n",
       "  <thead>\n",
       "    <tr style=\"text-align: right;\">\n",
       "      <th></th>\n",
       "      <th>sentence1</th>\n",
       "      <th>sentence2</th>\n",
       "      <th>gold_label</th>\n",
       "    </tr>\n",
       "  </thead>\n",
       "  <tbody>\n",
       "    <tr>\n",
       "      <th>0</th>\n",
       "      <td>Conceptually cream skimming has two basic dime...</td>\n",
       "      <td>Product and geography are what make cream skim...</td>\n",
       "      <td>neutral</td>\n",
       "    </tr>\n",
       "    <tr>\n",
       "      <th>1</th>\n",
       "      <td>you know during the season and i guess at at y...</td>\n",
       "      <td>You lose the things to the following level if ...</td>\n",
       "      <td>entailment</td>\n",
       "    </tr>\n",
       "    <tr>\n",
       "      <th>2</th>\n",
       "      <td>One of our number will carry out your instruct...</td>\n",
       "      <td>A member of my team will execute your orders w...</td>\n",
       "      <td>entailment</td>\n",
       "    </tr>\n",
       "    <tr>\n",
       "      <th>3</th>\n",
       "      <td>How do you know? All this is their information...</td>\n",
       "      <td>This information belongs to them.</td>\n",
       "      <td>entailment</td>\n",
       "    </tr>\n",
       "    <tr>\n",
       "      <th>4</th>\n",
       "      <td>yeah i tell you what though if you go price so...</td>\n",
       "      <td>The tennis shoes have a range of prices.</td>\n",
       "      <td>neutral</td>\n",
       "    </tr>\n",
       "    <tr>\n",
       "      <th>5</th>\n",
       "      <td>my walkman broke so i'm upset now i just have ...</td>\n",
       "      <td>I'm upset that my walkman broke and now I have...</td>\n",
       "      <td>entailment</td>\n",
       "    </tr>\n",
       "    <tr>\n",
       "      <th>6</th>\n",
       "      <td>But a few Christian mosaics survive above the ...</td>\n",
       "      <td>Most of the Christian mosaics were destroyed b...</td>\n",
       "      <td>neutral</td>\n",
       "    </tr>\n",
       "    <tr>\n",
       "      <th>7</th>\n",
       "      <td>(Read  for Slate 's take on Jackson's findings.)</td>\n",
       "      <td>Slate had an opinion on Jackson's findings.</td>\n",
       "      <td>entailment</td>\n",
       "    </tr>\n",
       "    <tr>\n",
       "      <th>8</th>\n",
       "      <td>Gays and lesbians.</td>\n",
       "      <td>Heterosexuals.</td>\n",
       "      <td>contradiction</td>\n",
       "    </tr>\n",
       "    <tr>\n",
       "      <th>9</th>\n",
       "      <td>At the end of Rue des Francs-Bourgeois is what...</td>\n",
       "      <td>Place des Vosges is constructed entirely of gr...</td>\n",
       "      <td>contradiction</td>\n",
       "    </tr>\n",
       "    <tr>\n",
       "      <th>10</th>\n",
       "      <td>I burst through a set of cabin doors, and fell...</td>\n",
       "      <td>I burst through the doors and fell down.</td>\n",
       "      <td>entailment</td>\n",
       "    </tr>\n",
       "    <tr>\n",
       "      <th>11</th>\n",
       "      <td>Fun for adults and children.</td>\n",
       "      <td>Fun for only children.</td>\n",
       "      <td>contradiction</td>\n",
       "    </tr>\n",
       "    <tr>\n",
       "      <th>12</th>\n",
       "      <td>It's not that the questions they asked weren't...</td>\n",
       "      <td>All of the questions were interesting accordin...</td>\n",
       "      <td>neutral</td>\n",
       "    </tr>\n",
       "    <tr>\n",
       "      <th>13</th>\n",
       "      <td>Thebes held onto power until the 12th Dynasty,...</td>\n",
       "      <td>The capital near Memphis lasted only half a ce...</td>\n",
       "      <td>neutral</td>\n",
       "    </tr>\n",
       "    <tr>\n",
       "      <th>14</th>\n",
       "      <td>I don't mean to be glib about your concerns, b...</td>\n",
       "      <td>I am concerned more about your issues than the...</td>\n",
       "      <td>contradiction</td>\n",
       "    </tr>\n",
       "    <tr>\n",
       "      <th>15</th>\n",
       "      <td>Issues in Data Synthesis.</td>\n",
       "      <td>Problems in data synthesis.</td>\n",
       "      <td>entailment</td>\n",
       "    </tr>\n",
       "    <tr>\n",
       "      <th>16</th>\n",
       "      <td>well you see that on television also</td>\n",
       "      <td>You can see that on television, as well.</td>\n",
       "      <td>entailment</td>\n",
       "    </tr>\n",
       "    <tr>\n",
       "      <th>17</th>\n",
       "      <td>Vrenna and I both fought him and he nearly too...</td>\n",
       "      <td>Neither Vrenna nor myself have ever fought him.</td>\n",
       "      <td>contradiction</td>\n",
       "    </tr>\n",
       "    <tr>\n",
       "      <th>18</th>\n",
       "      <td>This analysis pooled estimates from these two ...</td>\n",
       "      <td>The analysis proves that there is no link betw...</td>\n",
       "      <td>contradiction</td>\n",
       "    </tr>\n",
       "    <tr>\n",
       "      <th>19</th>\n",
       "      <td>He turned and smiled at Vrenna.</td>\n",
       "      <td>He smiled at Vrenna who was walking slowly beh...</td>\n",
       "      <td>neutral</td>\n",
       "    </tr>\n",
       "    <tr>\n",
       "      <th>20</th>\n",
       "      <td>We sought to identify practices that were comm...</td>\n",
       "      <td>We want to identify practices commonly used by...</td>\n",
       "      <td>entailment</td>\n",
       "    </tr>\n",
       "    <tr>\n",
       "      <th>21</th>\n",
       "      <td>The other men shuffled.</td>\n",
       "      <td>The other men were shuffled around.</td>\n",
       "      <td>entailment</td>\n",
       "    </tr>\n",
       "    <tr>\n",
       "      <th>22</th>\n",
       "      <td>States must show reasonable progress in their ...</td>\n",
       "      <td>Itis not necessary for there to be any improve...</td>\n",
       "      <td>contradiction</td>\n",
       "    </tr>\n",
       "    <tr>\n",
       "      <th>23</th>\n",
       "      <td>well it's been very interesting</td>\n",
       "      <td>It has been very intriguing.</td>\n",
       "      <td>entailment</td>\n",
       "    </tr>\n",
       "    <tr>\n",
       "      <th>24</th>\n",
       "      <td>He started slowly back to the bunkhouse.</td>\n",
       "      <td>He returned slowly to the bunkhouse.</td>\n",
       "      <td>entailment</td>\n",
       "    </tr>\n",
       "    <tr>\n",
       "      <th>25</th>\n",
       "      <td>and it's it's quite a bit i think six somethin...</td>\n",
       "      <td>I do not know exactly where the local taxes go.</td>\n",
       "      <td>neutral</td>\n",
       "    </tr>\n",
       "    <tr>\n",
       "      <th>26</th>\n",
       "      <td>They're made from a secret recipe handed down ...</td>\n",
       "      <td>The recipe passed down from Mallorcan ancestor...</td>\n",
       "      <td>contradiction</td>\n",
       "    </tr>\n",
       "    <tr>\n",
       "      <th>27</th>\n",
       "      <td>yeah well you're a student right</td>\n",
       "      <td>Well you're a mechanics student right?</td>\n",
       "      <td>neutral</td>\n",
       "    </tr>\n",
       "    <tr>\n",
       "      <th>28</th>\n",
       "      <td>it really is i heard something that their supp...</td>\n",
       "      <td>It's unfortunate that nobody is organizing a c...</td>\n",
       "      <td>contradiction</td>\n",
       "    </tr>\n",
       "    <tr>\n",
       "      <th>29</th>\n",
       "      <td>Postal Service were to reduce delivery frequency.</td>\n",
       "      <td>The postal service could deliver less frequently.</td>\n",
       "      <td>entailment</td>\n",
       "    </tr>\n",
       "    <tr>\n",
       "      <th>...</th>\n",
       "      <td>...</td>\n",
       "      <td>...</td>\n",
       "      <td>...</td>\n",
       "    </tr>\n",
       "    <tr>\n",
       "      <th>392672</th>\n",
       "      <td>The non-stop lift takes 55 seconds from ground...</td>\n",
       "      <td>The lift was designed to offer the spectacular...</td>\n",
       "      <td>neutral</td>\n",
       "    </tr>\n",
       "    <tr>\n",
       "      <th>392673</th>\n",
       "      <td>Got you a couple of blooded hosses an' a good ...</td>\n",
       "      <td>He gave him a money belt.</td>\n",
       "      <td>entailment</td>\n",
       "    </tr>\n",
       "    <tr>\n",
       "      <th>392674</th>\n",
       "      <td>Breasts have lost much of their mythological a...</td>\n",
       "      <td>People are not excited by breasts anymore.</td>\n",
       "      <td>neutral</td>\n",
       "    </tr>\n",
       "    <tr>\n",
       "      <th>392675</th>\n",
       "      <td>Which of you is the strongest? asked Jon.</td>\n",
       "      <td>The man asked for directions to the nearest ex...</td>\n",
       "      <td>contradiction</td>\n",
       "    </tr>\n",
       "    <tr>\n",
       "      <th>392676</th>\n",
       "      <td>and losing it in the competitive market and a ...</td>\n",
       "      <td>I really wonder how America has lost its compe...</td>\n",
       "      <td>entailment</td>\n",
       "    </tr>\n",
       "    <tr>\n",
       "      <th>392677</th>\n",
       "      <td>The initial approach route, along the A593 fro...</td>\n",
       "      <td>The route coming from Ambleside along the A593...</td>\n",
       "      <td>neutral</td>\n",
       "    </tr>\n",
       "    <tr>\n",
       "      <th>392678</th>\n",
       "      <td>of it being a little bit too low and i my bath...</td>\n",
       "      <td>I am wearing a very modest swimsuit that i bou...</td>\n",
       "      <td>neutral</td>\n",
       "    </tr>\n",
       "    <tr>\n",
       "      <th>392679</th>\n",
       "      <td>she likes to sew and do crafts and things like...</td>\n",
       "      <td>She used to work a fulltime job, before she de...</td>\n",
       "      <td>neutral</td>\n",
       "    </tr>\n",
       "    <tr>\n",
       "      <th>392680</th>\n",
       "      <td>The river Canche flows right through the cente...</td>\n",
       "      <td>The town has no water source in it.</td>\n",
       "      <td>contradiction</td>\n",
       "    </tr>\n",
       "    <tr>\n",
       "      <th>392681</th>\n",
       "      <td>Uphill to the south of the park lies the Agora...</td>\n",
       "      <td>The hill to get to Agora is not steep and wort...</td>\n",
       "      <td>neutral</td>\n",
       "    </tr>\n",
       "    <tr>\n",
       "      <th>392682</th>\n",
       "      <td>In additional to internal communications, mana...</td>\n",
       "      <td>Communication should be conducted over email a...</td>\n",
       "      <td>neutral</td>\n",
       "    </tr>\n",
       "    <tr>\n",
       "      <th>392683</th>\n",
       "      <td>Suffice to say it has no true heat, but does s...</td>\n",
       "      <td>It has lots of true heat.</td>\n",
       "      <td>contradiction</td>\n",
       "    </tr>\n",
       "    <tr>\n",
       "      <th>392684</th>\n",
       "      <td>And the teens in that one were so much meaner ...</td>\n",
       "      <td>Bobbie Rydell is a known teenager.</td>\n",
       "      <td>neutral</td>\n",
       "    </tr>\n",
       "    <tr>\n",
       "      <th>392685</th>\n",
       "      <td>no no i'm in Detroit or not Detroit i'm in uh ...</td>\n",
       "      <td>I'm no longer in Detroit, I moved to California.</td>\n",
       "      <td>neutral</td>\n",
       "    </tr>\n",
       "    <tr>\n",
       "      <th>392686</th>\n",
       "      <td>Dolly Parton's breast implants against Mark Mc...</td>\n",
       "      <td>Dolly Parton's breast implants contrasting Mar...</td>\n",
       "      <td>entailment</td>\n",
       "    </tr>\n",
       "    <tr>\n",
       "      <th>392687</th>\n",
       "      <td>The New Radicals sound like Todd Rundgren has ...</td>\n",
       "      <td>The New Radicals sound like Todd Rundgren.</td>\n",
       "      <td>entailment</td>\n",
       "    </tr>\n",
       "    <tr>\n",
       "      <th>392688</th>\n",
       "      <td>Its majesty is most notable in the balconies o...</td>\n",
       "      <td>The latticework in the Royal Harem is clumsy a...</td>\n",
       "      <td>contradiction</td>\n",
       "    </tr>\n",
       "    <tr>\n",
       "      <th>392689</th>\n",
       "      <td>but they they've got so much young raw talent ...</td>\n",
       "      <td>They will be going to a camp to learn how to p...</td>\n",
       "      <td>neutral</td>\n",
       "    </tr>\n",
       "    <tr>\n",
       "      <th>392690</th>\n",
       "      <td>Concerns about the reliability of value estima...</td>\n",
       "      <td>Research on bias can be biased as well.</td>\n",
       "      <td>neutral</td>\n",
       "    </tr>\n",
       "    <tr>\n",
       "      <th>392691</th>\n",
       "      <td>If you would like to scale the highest heights...</td>\n",
       "      <td>Some lessons and advice are a good idea if you...</td>\n",
       "      <td>entailment</td>\n",
       "    </tr>\n",
       "    <tr>\n",
       "      <th>392692</th>\n",
       "      <td>Many responses pivoted on the amusing contrast...</td>\n",
       "      <td>There was no visible difference between the up...</td>\n",
       "      <td>contradiction</td>\n",
       "    </tr>\n",
       "    <tr>\n",
       "      <th>392693</th>\n",
       "      <td>Four monasteries developed as a source of prot...</td>\n",
       "      <td>Only three monasteries still exist here, and a...</td>\n",
       "      <td>contradiction</td>\n",
       "    </tr>\n",
       "    <tr>\n",
       "      <th>392694</th>\n",
       "      <td>There was nothing like that emotion now.</td>\n",
       "      <td>There are few emotions that come close.</td>\n",
       "      <td>neutral</td>\n",
       "    </tr>\n",
       "    <tr>\n",
       "      <th>392695</th>\n",
       "      <td>Drawing a blank?</td>\n",
       "      <td>You can be drawing a blank.</td>\n",
       "      <td>entailment</td>\n",
       "    </tr>\n",
       "    <tr>\n",
       "      <th>392696</th>\n",
       "      <td>Legacy, predicting that he will keep custody o...</td>\n",
       "      <td>His children love their father and it's a grea...</td>\n",
       "      <td>neutral</td>\n",
       "    </tr>\n",
       "    <tr>\n",
       "      <th>392697</th>\n",
       "      <td>Clearly, California can - and must - do better.</td>\n",
       "      <td>California cannot do any better.</td>\n",
       "      <td>contradiction</td>\n",
       "    </tr>\n",
       "    <tr>\n",
       "      <th>392698</th>\n",
       "      <td>It was once regarded as the most beautiful str...</td>\n",
       "      <td>So many of the original buildings had been rep...</td>\n",
       "      <td>neutral</td>\n",
       "    </tr>\n",
       "    <tr>\n",
       "      <th>392699</th>\n",
       "      <td>Houseboats are a beautifully preserved traditi...</td>\n",
       "      <td>The tradition of houseboats originated while t...</td>\n",
       "      <td>entailment</td>\n",
       "    </tr>\n",
       "    <tr>\n",
       "      <th>392700</th>\n",
       "      <td>Obituaries fondly recalled his on-air debates ...</td>\n",
       "      <td>The obituaries were beautiful and written in k...</td>\n",
       "      <td>neutral</td>\n",
       "    </tr>\n",
       "    <tr>\n",
       "      <th>392701</th>\n",
       "      <td>in that other you know uh that i should do it ...</td>\n",
       "      <td>My husband has been so overworked lately that ...</td>\n",
       "      <td>neutral</td>\n",
       "    </tr>\n",
       "  </tbody>\n",
       "</table>\n",
       "<p>392702 rows × 3 columns</p>\n",
       "</div>"
      ],
      "text/plain": [
       "                                                sentence1  \\\n",
       "0       Conceptually cream skimming has two basic dime...   \n",
       "1       you know during the season and i guess at at y...   \n",
       "2       One of our number will carry out your instruct...   \n",
       "3       How do you know? All this is their information...   \n",
       "4       yeah i tell you what though if you go price so...   \n",
       "5       my walkman broke so i'm upset now i just have ...   \n",
       "6       But a few Christian mosaics survive above the ...   \n",
       "7        (Read  for Slate 's take on Jackson's findings.)   \n",
       "8                                      Gays and lesbians.   \n",
       "9       At the end of Rue des Francs-Bourgeois is what...   \n",
       "10      I burst through a set of cabin doors, and fell...   \n",
       "11                           Fun for adults and children.   \n",
       "12      It's not that the questions they asked weren't...   \n",
       "13      Thebes held onto power until the 12th Dynasty,...   \n",
       "14      I don't mean to be glib about your concerns, b...   \n",
       "15                              Issues in Data Synthesis.   \n",
       "16                   well you see that on television also   \n",
       "17      Vrenna and I both fought him and he nearly too...   \n",
       "18      This analysis pooled estimates from these two ...   \n",
       "19                        He turned and smiled at Vrenna.   \n",
       "20      We sought to identify practices that were comm...   \n",
       "21                                The other men shuffled.   \n",
       "22      States must show reasonable progress in their ...   \n",
       "23                        well it's been very interesting   \n",
       "24               He started slowly back to the bunkhouse.   \n",
       "25      and it's it's quite a bit i think six somethin...   \n",
       "26      They're made from a secret recipe handed down ...   \n",
       "27                       yeah well you're a student right   \n",
       "28      it really is i heard something that their supp...   \n",
       "29      Postal Service were to reduce delivery frequency.   \n",
       "...                                                   ...   \n",
       "392672  The non-stop lift takes 55 seconds from ground...   \n",
       "392673  Got you a couple of blooded hosses an' a good ...   \n",
       "392674  Breasts have lost much of their mythological a...   \n",
       "392675          Which of you is the strongest? asked Jon.   \n",
       "392676  and losing it in the competitive market and a ...   \n",
       "392677  The initial approach route, along the A593 fro...   \n",
       "392678  of it being a little bit too low and i my bath...   \n",
       "392679  she likes to sew and do crafts and things like...   \n",
       "392680  The river Canche flows right through the cente...   \n",
       "392681  Uphill to the south of the park lies the Agora...   \n",
       "392682  In additional to internal communications, mana...   \n",
       "392683  Suffice to say it has no true heat, but does s...   \n",
       "392684  And the teens in that one were so much meaner ...   \n",
       "392685  no no i'm in Detroit or not Detroit i'm in uh ...   \n",
       "392686  Dolly Parton's breast implants against Mark Mc...   \n",
       "392687  The New Radicals sound like Todd Rundgren has ...   \n",
       "392688  Its majesty is most notable in the balconies o...   \n",
       "392689  but they they've got so much young raw talent ...   \n",
       "392690  Concerns about the reliability of value estima...   \n",
       "392691  If you would like to scale the highest heights...   \n",
       "392692  Many responses pivoted on the amusing contrast...   \n",
       "392693  Four monasteries developed as a source of prot...   \n",
       "392694           There was nothing like that emotion now.   \n",
       "392695                                   Drawing a blank?   \n",
       "392696  Legacy, predicting that he will keep custody o...   \n",
       "392697    Clearly, California can - and must - do better.   \n",
       "392698  It was once regarded as the most beautiful str...   \n",
       "392699  Houseboats are a beautifully preserved traditi...   \n",
       "392700  Obituaries fondly recalled his on-air debates ...   \n",
       "392701  in that other you know uh that i should do it ...   \n",
       "\n",
       "                                                sentence2     gold_label  \n",
       "0       Product and geography are what make cream skim...        neutral  \n",
       "1       You lose the things to the following level if ...     entailment  \n",
       "2       A member of my team will execute your orders w...     entailment  \n",
       "3                       This information belongs to them.     entailment  \n",
       "4                The tennis shoes have a range of prices.        neutral  \n",
       "5       I'm upset that my walkman broke and now I have...     entailment  \n",
       "6       Most of the Christian mosaics were destroyed b...        neutral  \n",
       "7             Slate had an opinion on Jackson's findings.     entailment  \n",
       "8                                          Heterosexuals.  contradiction  \n",
       "9       Place des Vosges is constructed entirely of gr...  contradiction  \n",
       "10               I burst through the doors and fell down.     entailment  \n",
       "11                                 Fun for only children.  contradiction  \n",
       "12      All of the questions were interesting accordin...        neutral  \n",
       "13      The capital near Memphis lasted only half a ce...        neutral  \n",
       "14      I am concerned more about your issues than the...  contradiction  \n",
       "15                            Problems in data synthesis.     entailment  \n",
       "16               You can see that on television, as well.     entailment  \n",
       "17        Neither Vrenna nor myself have ever fought him.  contradiction  \n",
       "18      The analysis proves that there is no link betw...  contradiction  \n",
       "19      He smiled at Vrenna who was walking slowly beh...        neutral  \n",
       "20      We want to identify practices commonly used by...     entailment  \n",
       "21                    The other men were shuffled around.     entailment  \n",
       "22      Itis not necessary for there to be any improve...  contradiction  \n",
       "23                           It has been very intriguing.     entailment  \n",
       "24                   He returned slowly to the bunkhouse.     entailment  \n",
       "25        I do not know exactly where the local taxes go.        neutral  \n",
       "26      The recipe passed down from Mallorcan ancestor...  contradiction  \n",
       "27                 Well you're a mechanics student right?        neutral  \n",
       "28      It's unfortunate that nobody is organizing a c...  contradiction  \n",
       "29      The postal service could deliver less frequently.     entailment  \n",
       "...                                                   ...            ...  \n",
       "392672  The lift was designed to offer the spectacular...        neutral  \n",
       "392673                          He gave him a money belt.     entailment  \n",
       "392674         People are not excited by breasts anymore.        neutral  \n",
       "392675  The man asked for directions to the nearest ex...  contradiction  \n",
       "392676  I really wonder how America has lost its compe...     entailment  \n",
       "392677  The route coming from Ambleside along the A593...        neutral  \n",
       "392678  I am wearing a very modest swimsuit that i bou...        neutral  \n",
       "392679  She used to work a fulltime job, before she de...        neutral  \n",
       "392680                The town has no water source in it.  contradiction  \n",
       "392681  The hill to get to Agora is not steep and wort...        neutral  \n",
       "392682  Communication should be conducted over email a...        neutral  \n",
       "392683                          It has lots of true heat.  contradiction  \n",
       "392684                 Bobbie Rydell is a known teenager.        neutral  \n",
       "392685   I'm no longer in Detroit, I moved to California.        neutral  \n",
       "392686  Dolly Parton's breast implants contrasting Mar...     entailment  \n",
       "392687         The New Radicals sound like Todd Rundgren.     entailment  \n",
       "392688  The latticework in the Royal Harem is clumsy a...  contradiction  \n",
       "392689  They will be going to a camp to learn how to p...        neutral  \n",
       "392690          Research on bias can be biased as well.          neutral  \n",
       "392691  Some lessons and advice are a good idea if you...     entailment  \n",
       "392692  There was no visible difference between the up...  contradiction  \n",
       "392693  Only three monasteries still exist here, and a...  contradiction  \n",
       "392694            There are few emotions that come close.        neutral  \n",
       "392695                        You can be drawing a blank.     entailment  \n",
       "392696  His children love their father and it's a grea...        neutral  \n",
       "392697                   California cannot do any better.  contradiction  \n",
       "392698  So many of the original buildings had been rep...        neutral  \n",
       "392699  The tradition of houseboats originated while t...     entailment  \n",
       "392700  The obituaries were beautiful and written in k...        neutral  \n",
       "392701  My husband has been so overworked lately that ...        neutral  \n",
       "\n",
       "[392702 rows x 3 columns]"
      ]
     },
     "execution_count": 12,
     "metadata": {},
     "output_type": "execute_result"
    }
   ],
   "source": [
    "train_df_features = train_df[['sentence1', 'sentence2', 'gold_label']]\n",
    "train_df_features"
   ]
  },
  {
   "cell_type": "code",
   "execution_count": 13,
   "metadata": {},
   "outputs": [
    {
     "data": {
      "text/plain": [
       "sentence1     well it's been very interesting\n",
       "sentence2        It has been very intriguing.\n",
       "gold_label                         entailment\n",
       "Name: 23, dtype: object"
      ]
     },
     "execution_count": 13,
     "metadata": {},
     "output_type": "execute_result"
    }
   ],
   "source": [
    "train_df_features.iloc[23]"
   ]
  },
  {
   "cell_type": "code",
   "execution_count": 14,
   "metadata": {
    "collapsed": true
   },
   "outputs": [],
   "source": [
    "if len(train_df_features) >= 392695:\n",
    "    train_df_features.iloc[392695]"
   ]
  },
  {
   "cell_type": "code",
   "execution_count": 15,
   "metadata": {
    "collapsed": true
   },
   "outputs": [],
   "source": [
    "if len(train_df_features) >= 392694:\n",
    "    train_df_features.iloc[392694]"
   ]
  },
  {
   "cell_type": "code",
   "execution_count": 16,
   "metadata": {
    "collapsed": true
   },
   "outputs": [],
   "source": [
    "if len(train_df_features) >= 392697:\n",
    "    train_df_features.iloc[392697]"
   ]
  },
  {
   "cell_type": "code",
   "execution_count": 17,
   "metadata": {},
   "outputs": [
    {
     "data": {
      "text/plain": [
       "sentence1     Gays and lesbians.\n",
       "sentence2         Heterosexuals.\n",
       "gold_label         contradiction\n",
       "Name: 8, dtype: object"
      ]
     },
     "execution_count": 17,
     "metadata": {},
     "output_type": "execute_result"
    }
   ],
   "source": [
    "train_df_features.iloc[8]"
   ]
  },
  {
   "cell_type": "markdown",
   "metadata": {},
   "source": [
    "## Prepare Word Embeddings"
   ]
  },
  {
   "cell_type": "code",
   "execution_count": 18,
   "metadata": {},
   "outputs": [
    {
     "name": "stdout",
     "output_type": "stream",
     "text": [
      "Found 392702 samples.\n",
      "Found 77556 unique tokens.\n"
     ]
    }
   ],
   "source": [
    "NUM_WORDS = len(embeddings) #200000\n",
    "\n",
    "print('Found %s samples.' % len(train_sentence1))\n",
    "\n",
    "train_sentences = train_sentence1 + train_sentence2\n",
    "\n",
    "tokenizer = Tokenizer(num_words = NUM_WORDS)\n",
    "tokenizer.fit_on_texts(train_sentences)\n",
    "sentence1_word_sequences = tokenizer.texts_to_sequences(train_sentence1)\n",
    "sentence2_word_sequences = tokenizer.texts_to_sequences(train_sentence2)\n",
    "word_index = tokenizer.word_index\n",
    "\n",
    "print('Found %s unique tokens.' % len(word_index))"
   ]
  },
  {
   "cell_type": "code",
   "execution_count": 19,
   "metadata": {
    "collapsed": true
   },
   "outputs": [],
   "source": [
    "from collections import defaultdict\n",
    "\n",
    "words_len = min(NUM_WORDS, len(word_index))\n",
    "# word_embedding_matrix = np.zeros((words_len + 1, embedding_dim))\n",
    "word_embedding_matrix = np.random.random((words_len + 1, embedding_dim))\n",
    "k = 0\n",
    "for word, i in word_index.items():\n",
    "    if i >= NUM_WORDS:\n",
    "        continue\n",
    "    embedding_vector = embeddings.get(word)\n",
    "    if embedding_vector is not None:\n",
    "        word_embedding_matrix[i] = embedding_vector\n",
    "        k += 1\n",
    "        \n",
    "max_word_count_text = 0\n",
    "text_count = defaultdict(int)\n",
    "for sentence in sentence1_word_sequences:\n",
    "    max_word_count_text = max(max_word_count_text, len(sentence))\n",
    "    text_count[len(sentence)] += 1\n",
    "\n",
    "max_word_count_hypo = 0\n",
    "hypo_count = defaultdict(int)\n",
    "for sentence in sentence2_word_sequences:\n",
    "    max_word_count_hypo = max(max_word_count_hypo, len(sentence))\n",
    "    hypo_count[len(sentence)] += 1\n",
    "        "
   ]
  },
  {
   "cell_type": "code",
   "execution_count": 20,
   "metadata": {},
   "outputs": [
    {
     "data": {
      "image/png": "[encoded data removed]",
      "text/plain": [
       "<matplotlib.figure.Figure at 0x7fe966129d10>"
      ]
     },
     "metadata": {},
     "output_type": "display_data"
    }
   ],
   "source": [
    "\n",
    "mpl_fig = plt.figure()\n",
    "ax = mpl_fig.add_subplot(111)\n",
    "\n",
    "ax.bar(range(len(text_count)), text_count.values())\n",
    "ax.bar(range(len(hypo_count)), hypo_count.values(), alpha=0.7)\n",
    "\n",
    "plt.title(\"Sentence Length Distribution\")\n",
    "plt.xlabel(\"Length\")\n",
    "plt.ylabel(\"Frequency\")\n",
    "plt.show()"
   ]
  },
  {
   "cell_type": "code",
   "execution_count": 21,
   "metadata": {},
   "outputs": [
    {
     "name": "stdout",
     "output_type": "stream",
     "text": [
      "Null word embeddings: -1\n",
      "Found 59383\n",
      "Total: 77557\n",
      "Max word text: 382\n",
      "Max word hypothesis: 69\n"
     ]
    }
   ],
   "source": [
    "print('Null word embeddings: %d' % (np.sum(np.sum(word_embedding_matrix, axis=1) == 0) - 1))\n",
    "print('Found %d' % k)\n",
    "print('Total: %d' % len(word_embedding_matrix))\n",
    "print('Max word text: %d' % max_word_count_text)\n",
    "print('Max word hypothesis: %d' % max_word_count_hypo)"
   ]
  },
  {
   "cell_type": "code",
   "execution_count": 22,
   "metadata": {},
   "outputs": [
    {
     "name": "stdout",
     "output_type": "stream",
     "text": [
      "Shape of sentence1 tensor: (392702, 100)\n",
      "Shape of sentence2 tensor: (392702, 100)\n",
      "Shape of label tensor: (392702, 3)\n"
     ]
    }
   ],
   "source": [
    "s1_data = pad_sequences(sentence1_word_sequences, maxlen = max_seq_length)\n",
    "s2_data = pad_sequences(sentence2_word_sequences, maxlen = max_seq_length)\n",
    "\n",
    "labels = to_categorical(np.asarray(train_labels))\n",
    "\n",
    "print('Shape of sentence1 tensor:', s1_data.shape)\n",
    "print('Shape of sentence2 tensor:', s2_data.shape)\n",
    "print('Shape of label tensor:', labels.shape)"
   ]
  },
  {
   "cell_type": "code",
   "execution_count": 23,
   "metadata": {},
   "outputs": [
    {
     "name": "stdout",
     "output_type": "stream",
     "text": [
      "One sample\n",
      "Text: \n",
      "Conceptually cream skimming has two basic dimensions - product and geography.\n",
      "Word sequence: \n",
      "[21405, 3246, 9442, 37, 95, 1250, 9018, 798, 4, 9377]\n",
      "Pad: \n",
      "[    0     0     0     0     0     0     0     0     0     0     0     0\n",
      "     0     0     0     0     0     0     0     0     0     0     0     0\n",
      "     0     0     0     0     0     0     0     0     0     0     0     0\n",
      "     0     0     0     0     0     0     0     0     0     0     0     0\n",
      "     0     0     0     0     0     0     0     0     0     0     0     0\n",
      "     0     0     0     0     0     0     0     0     0     0     0     0\n",
      "     0     0     0     0     0     0     0     0     0     0     0     0\n",
      "     0     0     0     0     0     0 21405  3246  9442    37    95  1250\n",
      "  9018   798     4  9377]\n"
     ]
    }
   ],
   "source": [
    "print('One sample')\n",
    "\n",
    "print('Text: ')\n",
    "print( train_sentence1[0] )\n",
    "\n",
    "print('Word sequence: ')\n",
    "print( sentence1_word_sequences[0] )\n",
    "\n",
    "print('Pad: ')\n",
    "print( s1_data[0] )"
   ]
  },
  {
   "cell_type": "markdown",
   "metadata": {},
   "source": [
    "# Tensor Model\n",
    "\n",
    "## Helper methods."
   ]
  },
  {
   "cell_type": "code",
   "execution_count": 24,
   "metadata": {
    "collapsed": true
   },
   "outputs": [],
   "source": [
    "eps = 1e-6\n",
    "\n",
    "def precision(y_true, y_pred):\n",
    "    true_positives = K.sum(K.round(K.clip(y_true * y_pred, 0, 1)))\n",
    "    predicted_positives = K.sum(K.round(K.clip(y_pred, 0, 1)))\n",
    "    precision = true_positives / (predicted_positives + K.epsilon())\n",
    "    return precision\n",
    "\n",
    "def recall(y_true, y_pred):\n",
    "    true_positives = K.sum(K.round(K.clip(y_true * y_pred, 0, 1)))\n",
    "    possible_positives = K.sum(K.round(K.clip(y_true, 0, 1)))\n",
    "    recall = true_positives / (possible_positives + K.epsilon())\n",
    "    return recall\n",
    "\n",
    "def fbeta_score(y_true, y_pred, beta=1):\n",
    "    if K.sum(K.round(K.clip(y_true, 0, 1))) == 0:\n",
    "        return 0\n",
    "    p = precision(y_true, y_pred)\n",
    "    r = recall(y_true, y_pred)\n",
    "    bb = beta ** 2\n",
    "    fbeta_score = (1 + bb) * (p * r) / (bb * p + r + K.epsilon())\n",
    "    return fbeta_score\n",
    "\n",
    "\n",
    "def cosine_distance(y1, y2):\n",
    "    mult =  tf.multiply(y1, y2)\n",
    "    cosine_numerator = tf.reduce_sum( mult, axis = -1)\n",
    "    y1_norm = tf.sqrt(tf.maximum(tf.reduce_sum(tf.square(y1), axis=-1 ), eps) ) \n",
    "    y2_norm = tf.sqrt(tf.maximum(tf.reduce_sum(tf.square(y2), axis=-1 ), eps) ) \n",
    "    return cosine_numerator / y1_norm / y2_norm\n",
    "\n",
    "def cal_relevancy_matrix(text_vector, hypo_vector):\n",
    "    text_vector_tmp = tf.expand_dims(text_vector, 1) # [batch_size, 1, question_len, dim]\n",
    "    hypo_vector_tmp = tf.expand_dims(hypo_vector, 2) # [batch_size, passage_len, 1, dim]\n",
    "    relevancy_matrix = cosine_distance(text_vector_tmp, hypo_vector_tmp) # [batch_size, passage_len, question_len]\n",
    "    return relevancy_matrix\n",
    "\n",
    "def mask_relevancy_matrix(relevancy_matrix, text_mask, hypo_mask):\n",
    "    relevancy_matrix = tf.multiply(relevancy_matrix, K.expand_dims(text_mask, 1))\n",
    "    relevancy_matrix = tf.multiply(relevancy_matrix, K.expand_dims(hypo_mask, 2))\n",
    "    return relevancy_matrix\n",
    "\n",
    "def max_mean_pooling(repres, cosine_matrix):\n",
    "    \n",
    "    repres.append(tf.reduce_max(cosine_matrix, axis = 2, keep_dims = True))\n",
    "    repres.append(tf.reduce_mean(cosine_matrix, axis = 2, keep_dims = True))\n",
    "\n",
    "    return repres\n",
    "\n",
    "def matching_layer(inputs):\n",
    "    forward_relevancy_matrix = cal_relevancy_matrix(inputs[0], inputs[2])\n",
    "    backward_relevancy_matrix = cal_relevancy_matrix(inputs[1], inputs[3])\n",
    "\n",
    "    representation = []\n",
    "\n",
    "    max_mean_pooling(representation, forward_relevancy_matrix)\n",
    "    max_mean_pooling(representation, backward_relevancy_matrix)\n",
    "    \n",
    "    return representation"
   ]
  },
  {
   "cell_type": "markdown",
   "metadata": {},
   "source": [
    "## Matching layer"
   ]
  },
  {
   "cell_type": "code",
   "execution_count": 25,
   "metadata": {
    "collapsed": true
   },
   "outputs": [],
   "source": [
    "class MatchLayer(Layer):\n",
    "\n",
    "    def __init__(self, dim, seq_length, **kwargs):\n",
    "        super(MatchLayer, self).__init__(**kwargs)\n",
    "        self.supports_masking = True\n",
    "        self.dim = dim\n",
    "        self.seq_length = seq_length\n",
    "        \n",
    "    def build(self, input_shape):\n",
    "        if not isinstance(input_shape, list):\n",
    "            raise ValueError('`MatchLayer` layer should be called '\n",
    "                             'on a list of inputs')\n",
    "        \n",
    "        if all([shape is None for shape in input_shape]):\n",
    "            return\n",
    "        \n",
    "        super(MatchLayer, self).build(input_shape)  # Be sure to call this somewhere!\n",
    "\n",
    "    def call(self, inputs):\n",
    "        if not isinstance(inputs, list):\n",
    "            raise ValueError('A `MatchLayer` layer should be called '\n",
    "        \n",
    "        return matching_layer(inputs)\n",
    "    \n",
    "    def compute_output_shape(self, input_shape):\n",
    "        if not isinstance(input_shape, list):\n",
    "            raise ValueError('A `MatchLayer` layer should be called '\n",
    "                             'on a list of inputs.')\n",
    "        \n",
    "        input_shapes = input_shape\n",
    "        output_shape = list(input_shapes[0])\n",
    "        \n",
    "        return [ (None, output_shape[1] , 1) ] * 4 \n",
    "    \n",
    "    def get_config(self):\n",
    "        config = {\n",
    "\n",
    "        }\n",
    "        base_config = super(MatchLayer, self).get_config()\n",
    "        return dict(list(base_config.items()) + list(config.items()))\n",
    "    \n",
    "class MaxPoolingLayer(Layer):\n",
    "\n",
    "    def __init__(self, **kwargs):\n",
    "        super(MaxPoolingLayer, self).__init__(**kwargs)\n",
    "        \n",
    "    def build(self, input_shape):\n",
    "        super(MaxPoolingLayer, self).build(input_shape)\n",
    "    \n",
    "    def call(self, inputs):\n",
    "        return max_mean_pooling([], inputs)\n",
    "    \n",
    "    def compute_output_shape(self, input_shape):            \n",
    "        output_shape = list(input_shape)\n",
    "        return [ (None, output_shape[1] , 1) ] * 2\n",
    "    \n",
    "    def compute_mask(self, inputs, mask):\n",
    "        return [mask, mask]\n",
    "    \n",
    "class MyBidirectional(Bidirectional):\n",
    "    def compute_mask(self, inputs, mask):\n",
    "        return [mask, mask, mask, mask]\n",
    "    "
   ]
  },
  {
   "cell_type": "code",
   "execution_count": 35,
   "metadata": {},
   "outputs": [
    {
     "name": "stdout",
     "output_type": "stream",
     "text": [
      "Model created\n"
     ]
    }
   ],
   "source": [
    "models = {};\n",
    "\n",
    "def word_context(input, name):\n",
    "    embedding = Embedding(words_len + 1,\n",
    "                     embedding_dim,\n",
    "                     weights = [word_embedding_matrix],\n",
    "                     input_length = max_seq_length,\n",
    "                     trainable = False,\n",
    "                     name = name + '_embedding')(input)\n",
    "    \n",
    "    word = Dropout(0.1)(embedding)\n",
    "\n",
    "    context = Bidirectional(LSTM(100, return_sequences = True),\n",
    "                            merge_mode = None,\n",
    "                            name = name + '_context')(word)\n",
    "    \n",
    "    return (word, context)\n",
    "\n",
    "def create_model():\n",
    "    \n",
    "    sentence1_input = Input(shape=(max_seq_length,), dtype='int32', name = 'text')\n",
    "    sentence2_input = Input(shape=(max_seq_length,), dtype='int32', name = 'hypothesis')\n",
    "    \n",
    "    (text_embedding, text_context) = word_context(sentence1_input, 'text')\n",
    "    (hypo_embedding, hypo_context) = word_context(sentence2_input, 'hypothesis')\n",
    "\n",
    "    left_context = []\n",
    "    left_context.extend(hypo_context)\n",
    "    left_context.extend(text_context)\n",
    "    \n",
    "    left_match = MatchLayer(embedding_dim, max_seq_length)( left_context )\n",
    "    \n",
    "    right_context = []\n",
    "    right_context.extend(text_context)\n",
    "    right_context.extend(hypo_context)\n",
    "    \n",
    "    right_match = MatchLayer(embedding_dim, max_seq_length)( right_context )\n",
    "    \n",
    "    cosine_left = Lambda(lambda x_input: cal_relevancy_matrix(x_input[0], x_input[1]))( [text_embedding, hypo_embedding] )\n",
    "    cosine_right = Lambda(lambda cosine: tf.transpose(cosine, perm=[0,2,1]))( cosine_left )\n",
    "    \n",
    "    left_representation = MaxPoolingLayer()( cosine_left )\n",
    "    right_representation = MaxPoolingLayer()( cosine_right )\n",
    "    \n",
    "    left_representation.extend( left_match )\n",
    "    right_representation.extend( right_match ) \n",
    "    \n",
    "    left = concatenate(left_representation, axis = 2)\n",
    "    left = Dropout(0.1)(left)\n",
    "    \n",
    "    right = concatenate(right_representation, axis = 2)\n",
    "    right = Dropout(0.1)(right)\n",
    "    \n",
    "\n",
    "    aggregation_left = Bidirectional(LSTM(100),\n",
    "                            name = 'aggregation_text_context')(left)\n",
    "    \n",
    "    aggregation_right = Bidirectional(LSTM(100),\n",
    "                            name = 'aggregation_hypo_context')(right)\n",
    "    \n",
    "    aggregation = concatenate([aggregation_left, aggregation_right], axis = -1)\n",
    "                               \n",
    "    pred = Dense(200, activation = 'tanh', name = 'tanh_prediction')(aggregation)\n",
    "    pred = Dense(3, activation = 'softmax', name = 'softmax_prediction')(pred)\n",
    "    \n",
    "    optimizer = Adam(lr=0.001, beta_1=0.9, beta_2=0.999, epsilon=1e-08, decay=0.0)\n",
    "    \n",
    "    model = Model(inputs=[sentence1_input, sentence2_input], outputs = pred)\n",
    "    model.compile(loss = 'binary_crossentropy', \n",
    "              optimizer = optimizer,\n",
    "              metrics = ['accuracy'])\n",
    "    \n",
    "    print('Model created')\n",
    "    \n",
    "    return model\n",
    "\n",
    "\n",
    "models['adam'] = create_model()\n",
    "\n"
   ]
  },
  {
   "cell_type": "code",
   "execution_count": null,
   "metadata": {
    "collapsed": true
   },
   "outputs": [],
   "source": []
  },
  {
   "cell_type": "code",
   "execution_count": 27,
   "metadata": {},
   "outputs": [
    {
     "data": {
      "image/png": "[encoded data removed]",
      "text/plain": [
       "<IPython.core.display.Image object>"
      ]
     },
     "execution_count": 27,
     "metadata": {},
     "output_type": "execute_result"
    }
   ],
   "source": [
    "plot_model(models['adam'], to_file = model_name + '-model.png', show_shapes=True)\n",
    "Image(filename = model_name + '-model.png') "
   ]
  },
  {
   "cell_type": "markdown",
   "metadata": {},
   "source": [
    "## Train Model"
   ]
  },
  {
   "cell_type": "code",
   "execution_count": null,
   "metadata": {
    "collapsed": true
   },
   "outputs": [],
   "source": [
    "results = []\n",
    "for name, model in models.items():\n",
    "    callbacks = [\n",
    "        BaseLogger(),\n",
    "        ReduceLROnPlateau(monitor = 'val_loss', factor=0.2, patience=5, min_lr=0.001),\n",
    "        TensorBoard(log_dir='./' + model_name + '-' + name + '-logs', histogram_freq=0, write_graph=True, write_images=True),\n",
    "        ModelCheckpoint(model_name + '-' + name + '-checkpoint-weights.{epoch:02d}-{val_acc:.2f}.hdf5', monitor='val_acc', save_best_only=True)\n",
    "    ]\n",
    "    \n",
    "    start_time = time.time()\n",
    "    print('')\n",
    "    print('Start learning %s at %d' % (name, start_time))\n",
    "    print('Epochs: %d' % epochs)\n",
    "    print('Batch size: %d' % batch_size)\n",
    "\n",
    "    history = model.fit([s1_data, s2_data],\n",
    "                        labels,\n",
    "                        epochs = epochs,\n",
    "                        batch_size = batch_size,\n",
    "                        validation_split = 0.1,\n",
    "                        shuffle = False, #True,\n",
    "                        verbose = 2,\n",
    "                        callbacks = callbacks)\n",
    "\n",
    "    model.save(model_name + '-' + name + '-model.h5')\n",
    "    model.save_weights(model_name + '-' + name + '-weights.h5')\n",
    "\n",
    "    end_time = time.time()\n",
    "    average_time_per_epoch = (end_time - start_time) / epochs\n",
    "    results.append((history, average_time_per_epoch))\n",
    "    \n",
    "    print('Time: %d' % (end_time - start_time))\n",
    "    "
   ]
  },
  {
   "cell_type": "code",
   "execution_count": null,
   "metadata": {
    "collapsed": true
   },
   "outputs": [],
   "source": []
  },
  {
   "cell_type": "code",
   "execution_count": null,
   "metadata": {
    "collapsed": true
   },
   "outputs": [],
   "source": []
  },
  {
   "cell_type": "code",
   "execution_count": 30,
   "metadata": {},
   "outputs": [],
   "source": [
    "#model = load_model('model6-text-entailment-2017-04-24.h5')\n",
    "model = models['adam']\n",
    "model.load_weights('big-adam-checkpoint-weights.03-0.79.hdf5')\n"
   ]
  },
  {
   "cell_type": "code",
   "execution_count": null,
   "metadata": {
    "collapsed": true
   },
   "outputs": [],
   "source": [
    "max_val_acc, idx = max((val, idx) for (idx, val) in enumerate(history.history['val_acc']))\n",
    "print('Max acc at epoch ', (idx + 1), ' = ', max_val_acc)"
   ]
  },
  {
   "cell_type": "code",
   "execution_count": null,
   "metadata": {
    "collapsed": true
   },
   "outputs": [],
   "source": [
    "#acc = pd.DataFrame({\n",
    "#    'epoch': [ i + 1 for i in history.epoch ],\n",
    "#    'training': history.history['acc'],\n",
    "#    'validation': history.history['val_acc']\n",
    "#})\n",
    "#\n",
    "#ax = acc.ix[:,:].plot(x='epoch', figsize={5,8}, grid = True)\n",
    "#ax.set_ylabel('accuracy')\n",
    "#ax.set_ylim([0.0, 1.0])\n",
    "\n",
    "plt.style.use('ggplot')\n",
    "plt.figure(figsize=(14, 10))#, dpi=100)\n",
    "\n",
    "ax1 = plt.subplot2grid((3, 2), (0, 0))\n",
    "ax1.set_title('Test Accuracy')\n",
    "ax1.set_ylabel('Accuracy')\n",
    "ax1.set_xlabel('Epochs')\n",
    "\n",
    "ax2 = plt.subplot2grid((3, 2), (1, 0))\n",
    "ax2.set_title('Test Loss')\n",
    "ax2.set_ylabel('Loss')\n",
    "ax2.set_xlabel('Epochs')\n",
    "\n",
    "ax3 = plt.subplot2grid((3, 2), (0, 1))\n",
    "ax3.set_title('Validation Accuracy')\n",
    "ax3.set_ylabel('Accuracy')\n",
    "ax3.set_xlabel('Epochs')\n",
    "\n",
    "ax4 = plt.subplot2grid((3, 2), (1, 1))\n",
    "ax4.set_title('Validation Loss')\n",
    "ax4.set_ylabel('Loss')\n",
    "ax4.set_xlabel('Epochs')\n",
    "\n",
    "ax5 = plt.subplot2grid((3, 2), (2, 0), rowspan=1, colspan=2)\n",
    "ax5.set_title('Time')\n",
    "ax5.set_ylabel('Seconds')\n",
    "\n",
    "for mode, result in zip(models, results):\n",
    "    ax1.plot(result[0].epoch, result[0].history['acc'], label=mode)\n",
    "    ax2.plot(result[0].epoch, result[0].history['loss'], label=mode)\n",
    "    ax3.plot(result[0].epoch, result[0].history['val_acc'], label=mode)\n",
    "    ax4.plot(result[0].epoch, result[0].history['val_loss'], label=mode)\n",
    "    \n",
    "ax1.legend()\n",
    "ax2.legend()\n",
    "\n",
    "ax3.legend()\n",
    "ax4.legend()\n",
    "\n",
    "ax5.bar(np.arange(len(results)), [x[1] for x in results], tick_label = models.keys(), align='center')\n",
    "\n",
    "plt.tight_layout()\n",
    "plt.savefig(model_name + '-acc-loss.png', dpi = 300)\n",
    "#plt.show()"
   ]
  },
  {
   "cell_type": "markdown",
   "metadata": {},
   "source": [
    "# Test Matched"
   ]
  },
  {
   "cell_type": "code",
   "execution_count": 28,
   "metadata": {},
   "outputs": [
    {
     "name": "stdout",
     "output_type": "stream",
     "text": [
      "Label not recognized 185\n",
      "Shape of test sentence1 tensor: (9815, 100)\n",
      "Shape of test sentence2 tensor: (9815, 100)\n",
      "Shape of test label tensor: (9815, 3)\n"
     ]
    }
   ],
   "source": [
    "matched_filename = os.path.join(data_folder, dataset_filename, dataset_filename + '_dev_matched.jsonl')\n",
    "\n",
    "(_, matched_sentence1, matched_sentence2, matched_labels_text) = loadDataset(matched_filename)\n",
    "\n",
    "matched_s1_word_sequences = tokenizer.texts_to_sequences(matched_sentence1)\n",
    "matched_s2_word_sequences = tokenizer.texts_to_sequences(matched_sentence2)\n",
    "\n",
    "matched_s1_data = pad_sequences(matched_s1_word_sequences, maxlen = max_seq_length)\n",
    "matched_s2_data = pad_sequences(matched_s2_word_sequences, maxlen = max_seq_length)\n",
    "matched_labels = to_categorical(np.asarray(matched_labels_text))\n",
    "\n",
    "print('Shape of test sentence1 tensor:', matched_s1_data.shape)\n",
    "print('Shape of test sentence2 tensor:', matched_s2_data.shape)\n",
    "print('Shape of test label tensor:', matched_labels.shape)"
   ]
  },
  {
   "cell_type": "code",
   "execution_count": 31,
   "metadata": {},
   "outputs": [
    {
     "name": "stdout",
     "output_type": "stream",
     "text": [
      "\n",
      "Model adam\n",
      "9815/9815 [==============================] - 547s   \n",
      "loss     =  0.453844978329\n",
      "accuracy =  0.790388870221\n"
     ]
    }
   ],
   "source": [
    "for name, model in models.items():\n",
    "    print('')\n",
    "    print('Model %s' % name)\n",
    "    \n",
    "    loss, accuracy = model.evaluate([matched_s1_data, matched_s2_data], matched_labels)\n",
    "    \n",
    "    print('loss     = ', loss)\n",
    "    print('accuracy = ', accuracy)"
   ]
  },
  {
   "cell_type": "markdown",
   "metadata": {},
   "source": [
    "# Test Mismatched"
   ]
  },
  {
   "cell_type": "code",
   "execution_count": 38,
   "metadata": {},
   "outputs": [
    {
     "name": "stdout",
     "output_type": "stream",
     "text": [
      "Label not recognized 185\n",
      "Shape of test sentence1 tensor: (9815, 100)\n",
      "Shape of test sentence2 tensor: (9815, 100)\n",
      "Shape of test label tensor: (9815, 3)\n"
     ]
    }
   ],
   "source": [
    "mismatched_filename = os.path.join(data_folder, dataset_filename, dataset_filename + '_dev_mismatched.jsonl')\n",
    "(_, mismatched_sentence1, mismatched_sentence2, mismatched_labels_text) = loadDataset(matched_filename)\n",
    "\n",
    "mismatched_s1_word_sequences = tokenizer.texts_to_sequences(mismatched_sentence1)\n",
    "mismatched_s2_word_sequences = tokenizer.texts_to_sequences(mismatched_sentence2)\n",
    "\n",
    "mismatched_s1_data = pad_sequences(mismatched_s1_word_sequences, maxlen = max_seq_length)\n",
    "mismatched_s2_data = pad_sequences(mismatched_s2_word_sequences, maxlen = max_seq_length)\n",
    "mismatched_labels = to_categorical(np.asarray(mismatched_labels_text))\n",
    "\n",
    "print('Shape of test sentence1 tensor:', mismatched_s1_data.shape)\n",
    "print('Shape of test sentence2 tensor:', mismatched_s2_data.shape)\n",
    "print('Shape of test label tensor:', mismatched_labels.shape)"
   ]
  },
  {
   "cell_type": "code",
   "execution_count": 39,
   "metadata": {},
   "outputs": [
    {
     "name": "stdout",
     "output_type": "stream",
     "text": [
      "9815/9815 [==============================] - 583s   \n",
      "\n",
      "Model adam\n",
      "loss     =  0.639931855333\n",
      "accuracy =  0.66666662707\n"
     ]
    }
   ],
   "source": [
    "for name, model in models.items():\n",
    "    loss, accuracy = model.evaluate([mismatched_s1_data, mismatched_s2_data], mismatched_labels)\n",
    "    print('')\n",
    "    print('Model %s' % name)\n",
    "    print('loss     = ', loss)\n",
    "    print('accuracy = ', accuracy)"
   ]
  },
  {
   "cell_type": "code",
   "execution_count": null,
   "metadata": {
    "collapsed": true
   },
   "outputs": [],
   "source": []
  },
  {
   "cell_type": "code",
   "execution_count": null,
   "metadata": {},
   "outputs": [],
   "source": [
    "        "
   ]
  },
  {
   "cell_type": "code",
   "execution_count": null,
   "metadata": {
    "collapsed": true
   },
   "outputs": [],
   "source": []
  }
 ],
 "metadata": {
  "kernelspec": {
   "display_name": "Python 2",
   "language": "python",
   "name": "python2"
  },
  "language_info": {
   "codemirror_mode": {
    "name": "ipython",
    "version": 2
   },
   "file_extension": ".py",
   "mimetype": "text/x-python",
   "name": "python",
   "nbconvert_exporter": "python",
   "pygments_lexer": "ipython2",
   "version": "2.7.12"
  }
 },
 "nbformat": 4,
 "nbformat_minor": 2
}
